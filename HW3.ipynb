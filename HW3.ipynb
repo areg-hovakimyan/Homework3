{
 "cells": [
  {
   "cell_type": "code",
   "execution_count": 312,
   "metadata": {},
   "outputs": [],
   "source": [
    "import pandas as pd\n",
    "from lifelines import WeibullAFTFitter, LogLogisticAFTFitter, LogNormalAFTFitter\n",
    "import matplotlib.pyplot as plt"
   ]
  },
  {
   "cell_type": "code",
   "execution_count": 257,
   "metadata": {},
   "outputs": [],
   "source": [
    "data = pd.read_csv(\"telco.csv\")"
   ]
  },
  {
   "cell_type": "code",
   "execution_count": 258,
   "metadata": {},
   "outputs": [],
   "source": [
    "df = data.iloc[:, 1:]"
   ]
  },
  {
   "cell_type": "code",
   "execution_count": 259,
   "metadata": {},
   "outputs": [
    {
     "data": {
      "text/plain": [
       "(   region  tenure  age    marital  address  income  \\\n",
       " 0  Zone 2      13   44    Married        9      64   \n",
       " 1  Zone 3      11   33    Married        7     136   \n",
       " 2  Zone 3      68   52    Married       24     116   \n",
       " 3  Zone 2      33   33  Unmarried       12      33   \n",
       " 4  Zone 2      23   30    Married        9      30   \n",
       " \n",
       "                              ed retire  gender voice internet forward  \\\n",
       " 0                College degree     No    Male    No       No     Yes   \n",
       " 1     Post-undergraduate degree     No    Male   Yes       No     Yes   \n",
       " 2  Did not complete high school     No  Female    No       No      No   \n",
       " 3            High school degree     No  Female    No       No      No   \n",
       " 4  Did not complete high school     No    Male    No       No     Yes   \n",
       " \n",
       "          custcat churn  \n",
       " 0  Basic service   Yes  \n",
       " 1  Total service   Yes  \n",
       " 2   Plus service    No  \n",
       " 3  Basic service   Yes  \n",
       " 4   Plus service    No  ,\n",
       "      region  tenure  age    marital  address  income  \\\n",
       " 995  Zone 3      10   39  Unmarried        0      27   \n",
       " 996  Zone 1       7   34  Unmarried        2      22   \n",
       " 997  Zone 3      67   59  Unmarried       40     944   \n",
       " 998  Zone 3      70   49  Unmarried       18      87   \n",
       " 999  Zone 3      50   36    Married        7      39   \n",
       " \n",
       "                             ed retire  gender voice internet forward  \\\n",
       " 995               Some college     No  Female    No       No      No   \n",
       " 996  Post-undergraduate degree     No  Female    No       No      No   \n",
       " 997  Post-undergraduate degree     No  Female   Yes      Yes     Yes   \n",
       " 998         High school degree     No  Female   Yes       No     Yes   \n",
       " 999               Some college     No  Female    No      Yes      No   \n",
       " \n",
       "            custcat churn  \n",
       " 995  Basic service    No  \n",
       " 996  Basic service    No  \n",
       " 997  Total service    No  \n",
       " 998   Plus service    No  \n",
       " 999      E-service   Yes  )"
      ]
     },
     "execution_count": 259,
     "metadata": {},
     "output_type": "execute_result"
    }
   ],
   "source": [
    "df.head(), df.tail()"
   ]
  },
  {
   "cell_type": "code",
   "execution_count": 260,
   "metadata": {},
   "outputs": [
    {
     "data": {
      "text/html": [
       "<div>\n",
       "<style scoped>\n",
       "    .dataframe tbody tr th:only-of-type {\n",
       "        vertical-align: middle;\n",
       "    }\n",
       "\n",
       "    .dataframe tbody tr th {\n",
       "        vertical-align: top;\n",
       "    }\n",
       "\n",
       "    .dataframe thead th {\n",
       "        text-align: right;\n",
       "    }\n",
       "</style>\n",
       "<table border=\"1\" class=\"dataframe\">\n",
       "  <thead>\n",
       "    <tr style=\"text-align: right;\">\n",
       "      <th></th>\n",
       "      <th>tenure</th>\n",
       "      <th>age</th>\n",
       "      <th>address</th>\n",
       "      <th>income</th>\n",
       "    </tr>\n",
       "  </thead>\n",
       "  <tbody>\n",
       "    <tr>\n",
       "      <th>count</th>\n",
       "      <td>1000.000000</td>\n",
       "      <td>1000.000000</td>\n",
       "      <td>1000.000000</td>\n",
       "      <td>1000.000000</td>\n",
       "    </tr>\n",
       "    <tr>\n",
       "      <th>mean</th>\n",
       "      <td>35.526000</td>\n",
       "      <td>41.684000</td>\n",
       "      <td>11.551000</td>\n",
       "      <td>77.535000</td>\n",
       "    </tr>\n",
       "    <tr>\n",
       "      <th>std</th>\n",
       "      <td>21.359812</td>\n",
       "      <td>12.558816</td>\n",
       "      <td>10.086681</td>\n",
       "      <td>107.044165</td>\n",
       "    </tr>\n",
       "    <tr>\n",
       "      <th>min</th>\n",
       "      <td>1.000000</td>\n",
       "      <td>18.000000</td>\n",
       "      <td>0.000000</td>\n",
       "      <td>9.000000</td>\n",
       "    </tr>\n",
       "    <tr>\n",
       "      <th>25%</th>\n",
       "      <td>17.000000</td>\n",
       "      <td>32.000000</td>\n",
       "      <td>3.000000</td>\n",
       "      <td>29.000000</td>\n",
       "    </tr>\n",
       "    <tr>\n",
       "      <th>50%</th>\n",
       "      <td>34.000000</td>\n",
       "      <td>40.000000</td>\n",
       "      <td>9.000000</td>\n",
       "      <td>47.000000</td>\n",
       "    </tr>\n",
       "    <tr>\n",
       "      <th>75%</th>\n",
       "      <td>54.000000</td>\n",
       "      <td>51.000000</td>\n",
       "      <td>18.000000</td>\n",
       "      <td>83.000000</td>\n",
       "    </tr>\n",
       "    <tr>\n",
       "      <th>max</th>\n",
       "      <td>72.000000</td>\n",
       "      <td>77.000000</td>\n",
       "      <td>55.000000</td>\n",
       "      <td>1668.000000</td>\n",
       "    </tr>\n",
       "  </tbody>\n",
       "</table>\n",
       "</div>"
      ],
      "text/plain": [
       "            tenure          age      address       income\n",
       "count  1000.000000  1000.000000  1000.000000  1000.000000\n",
       "mean     35.526000    41.684000    11.551000    77.535000\n",
       "std      21.359812    12.558816    10.086681   107.044165\n",
       "min       1.000000    18.000000     0.000000     9.000000\n",
       "25%      17.000000    32.000000     3.000000    29.000000\n",
       "50%      34.000000    40.000000     9.000000    47.000000\n",
       "75%      54.000000    51.000000    18.000000    83.000000\n",
       "max      72.000000    77.000000    55.000000  1668.000000"
      ]
     },
     "execution_count": 260,
     "metadata": {},
     "output_type": "execute_result"
    }
   ],
   "source": [
    "df.describe()"
   ]
  },
  {
   "cell_type": "code",
   "execution_count": 261,
   "metadata": {},
   "outputs": [
    {
     "name": "stdout",
     "output_type": "stream",
     "text": [
      "<class 'pandas.core.frame.DataFrame'>\n",
      "RangeIndex: 1000 entries, 0 to 999\n",
      "Data columns (total 14 columns):\n",
      " #   Column    Non-Null Count  Dtype \n",
      "---  ------    --------------  ----- \n",
      " 0   region    1000 non-null   object\n",
      " 1   tenure    1000 non-null   int64 \n",
      " 2   age       1000 non-null   int64 \n",
      " 3   marital   1000 non-null   object\n",
      " 4   address   1000 non-null   int64 \n",
      " 5   income    1000 non-null   int64 \n",
      " 6   ed        1000 non-null   object\n",
      " 7   retire    1000 non-null   object\n",
      " 8   gender    1000 non-null   object\n",
      " 9   voice     1000 non-null   object\n",
      " 10  internet  1000 non-null   object\n",
      " 11  forward   1000 non-null   object\n",
      " 12  custcat   1000 non-null   object\n",
      " 13  churn     1000 non-null   object\n",
      "dtypes: int64(4), object(10)\n",
      "memory usage: 109.5+ KB\n"
     ]
    }
   ],
   "source": [
    "df.info()"
   ]
  },
  {
   "cell_type": "code",
   "execution_count": 262,
   "metadata": {},
   "outputs": [
    {
     "data": {
      "text/plain": [
       "14"
      ]
     },
     "execution_count": 262,
     "metadata": {},
     "output_type": "execute_result"
    }
   ],
   "source": [
    "len(df.columns)"
   ]
  },
  {
   "cell_type": "code",
   "execution_count": 263,
   "metadata": {},
   "outputs": [
    {
     "data": {
      "text/plain": [
       "(array(['Yes', 'No'], dtype=object),\n",
       " array([13, 11, 68, 33, 23, 41, 45, 38,  5,  7, 57,  9, 29, 60, 34,  1, 26,\n",
       "         6, 53, 55, 14, 42, 25, 56, 71, 35, 20, 54, 44, 72, 10, 15, 27, 64,\n",
       "        65, 49, 47, 30, 52, 36, 58, 69, 28, 16,  3, 40, 48,  8, 67,  2, 31,\n",
       "        62,  4, 17, 43, 12, 61, 59, 51, 19, 22, 70, 50, 46, 39, 24, 21, 18,\n",
       "        63, 37, 66, 32]),\n",
       " array(['Zone 2', 'Zone 3', 'Zone 1'], dtype=object))"
      ]
     },
     "execution_count": 263,
     "metadata": {},
     "output_type": "execute_result"
    }
   ],
   "source": [
    "df['churn'].unique(), df['tenure'].unique(), df['region'].unique()"
   ]
  },
  {
   "cell_type": "code",
   "execution_count": 264,
   "metadata": {},
   "outputs": [],
   "source": [
    "categorical_columns = df.select_dtypes(include=['object']).columns.tolist()\n",
    "df = pd.get_dummies(df, columns=categorical_columns, drop_first=True)"
   ]
  },
  {
   "cell_type": "code",
   "execution_count": 265,
   "metadata": {},
   "outputs": [],
   "source": [
    "Weibull =  WeibullAFTFitter()\n",
    "LogLogistic = LogLogisticAFTFitter()\n",
    "LogNormal = LogNormalAFTFitter()"
   ]
  },
  {
   "cell_type": "code",
   "execution_count": 266,
   "metadata": {},
   "outputs": [
    {
     "data": {
      "text/plain": [
       "<lifelines.LogNormalAFTFitter: fitted with 1000 total observations, 726 right-censored observations>"
      ]
     },
     "execution_count": 266,
     "metadata": {},
     "output_type": "execute_result"
    }
   ],
   "source": [
    "Weibull.fit(df, duration_col = \"tenure\", event_col = 'churn_Yes')\n",
    "LogLogistic.fit(df, duration_col = \"tenure\", event_col = 'churn_Yes')\n",
    "LogNormal.fit(df, duration_col = \"tenure\", event_col = 'churn_Yes')"
   ]
  },
  {
   "cell_type": "code",
   "execution_count": 267,
   "metadata": {},
   "outputs": [
    {
     "data": {
      "text/plain": [
       "(2938.1587586418455, 2930.024072001298, 2927.8395208096767)"
      ]
     },
     "execution_count": 267,
     "metadata": {},
     "output_type": "execute_result"
    }
   ],
   "source": [
    "Weibull.BIC_, LogLogistic.BIC_, LogNormal.BIC_"
   ]
  },
  {
   "cell_type": "code",
   "execution_count": 268,
   "metadata": {},
   "outputs": [
    {
     "data": {
      "text/plain": [
       "(2964.343248083881, 2956.2085614433336, 2954.0240102517123)"
      ]
     },
     "execution_count": 268,
     "metadata": {},
     "output_type": "execute_result"
    }
   ],
   "source": [
    "Weibull.AIC_, LogLogistic.AIC_, LogNormal.AIC_"
   ]
  },
  {
   "cell_type": "code",
   "execution_count": 269,
   "metadata": {},
   "outputs": [
    {
     "data": {
      "image/png": "[encoded data removed]",
      "text/plain": [
       "<Figure size 1000x600 with 1 Axes>"
      ]
     },
     "metadata": {},
     "output_type": "display_data"
    }
   ],
   "source": [
    "sample = df.sample(2, random_state=3)\n",
    "\n",
    "Weibull_pred = Weibull.predict_survival_function(sample)\n",
    "LogNormal_pred = LogNormal.predict_survival_function(sample)\n",
    "LogLogistic_pred = LogLogistic.predict_survival_function(sample)\n",
    "\n",
    "plt.figure(figsize=(10, 6))\n",
    "for i, col in enumerate(sample.index):\n",
    "    plt.plot(Weibull_pred.index, Weibull_pred[col], linestyle='--', label=f'Weibull - {col}')\n",
    "    plt.plot(LogNormal_pred.index, LogNormal_pred[col], linestyle='-', label=f'Log-Normal - {col}')\n",
    "    plt.plot(LogLogistic_pred.index, LogLogistic_pred[col], linestyle='-.', label=f'Log-Logistic - {col}')\n",
    "\n",
    "\n",
    "\n",
    "plt.xlabel('Time')\n",
    "plt.ylabel('Survival Probability')\n",
    "\n",
    "plt.title('Survival Functions by AFT Model')\n",
    "\n",
    "plt.legend(title=\"Model and ID\")\n",
    "\n",
    "plt.gca().spines['top'].set_visible(False)\n",
    "plt.gca().spines['right'].set_visible(False)\n",
    "\n",
    "plt.gca().spines['left'].set_linewidth(1.5)\n",
    "plt.gca().spines['bottom'].set_linewidth(1.5)\n",
    "\n",
    "plt.gca().tick_params(axis='both', which='both', length=0)\n",
    "plt.grid(True, linestyle='--', alpha=0.6)\n",
    "\n",
    "plt.savefig('pretty_survival_functions.png', format='png', dpi=300)\n",
    "\n",
    "plt.show()"
   ]
  },
  {
   "cell_type": "code",
   "execution_count": 270,
   "metadata": {},
   "outputs": [
    {
     "data": {
      "text/html": [
       "<div>\n",
       "<style scoped>\n",
       "    .dataframe tbody tr th:only-of-type {\n",
       "        vertical-align: middle;\n",
       "    }\n",
       "\n",
       "    .dataframe tbody tr th {\n",
       "        vertical-align: top;\n",
       "    }\n",
       "\n",
       "    .dataframe thead th {\n",
       "        text-align: right;\n",
       "    }\n",
       "</style>\n",
       "<table border=\"1\" class=\"dataframe\">\n",
       "  <thead>\n",
       "    <tr style=\"text-align: right;\">\n",
       "      <th></th>\n",
       "      <th></th>\n",
       "      <th>coef</th>\n",
       "      <th>exp(coef)</th>\n",
       "      <th>se(coef)</th>\n",
       "      <th>coef lower 95%</th>\n",
       "      <th>coef upper 95%</th>\n",
       "      <th>exp(coef) lower 95%</th>\n",
       "      <th>exp(coef) upper 95%</th>\n",
       "      <th>cmp to</th>\n",
       "      <th>z</th>\n",
       "      <th>p</th>\n",
       "      <th>-log2(p)</th>\n",
       "    </tr>\n",
       "    <tr>\n",
       "      <th>param</th>\n",
       "      <th>covariate</th>\n",
       "      <th></th>\n",
       "      <th></th>\n",
       "      <th></th>\n",
       "      <th></th>\n",
       "      <th></th>\n",
       "      <th></th>\n",
       "      <th></th>\n",
       "      <th></th>\n",
       "      <th></th>\n",
       "      <th></th>\n",
       "      <th></th>\n",
       "    </tr>\n",
       "  </thead>\n",
       "  <tbody>\n",
       "    <tr>\n",
       "      <th rowspan=\"11\" valign=\"top\">lambda_</th>\n",
       "      <th>address</th>\n",
       "      <td>0.042526</td>\n",
       "      <td>1.043444</td>\n",
       "      <td>0.008853</td>\n",
       "      <td>0.025176</td>\n",
       "      <td>0.059877</td>\n",
       "      <td>1.025495</td>\n",
       "      <td>1.061706</td>\n",
       "      <td>0.0</td>\n",
       "      <td>4.803851</td>\n",
       "      <td>1.556429e-06</td>\n",
       "      <td>19.293329</td>\n",
       "    </tr>\n",
       "    <tr>\n",
       "      <th>age</th>\n",
       "      <td>0.030797</td>\n",
       "      <td>1.031276</td>\n",
       "      <td>0.005977</td>\n",
       "      <td>0.019083</td>\n",
       "      <td>0.042510</td>\n",
       "      <td>1.019266</td>\n",
       "      <td>1.043427</td>\n",
       "      <td>0.0</td>\n",
       "      <td>5.152866</td>\n",
       "      <td>2.565346e-07</td>\n",
       "      <td>21.894343</td>\n",
       "    </tr>\n",
       "    <tr>\n",
       "      <th>custcat_E-service</th>\n",
       "      <td>0.962393</td>\n",
       "      <td>2.617954</td>\n",
       "      <td>0.156810</td>\n",
       "      <td>0.655052</td>\n",
       "      <td>1.269735</td>\n",
       "      <td>1.925242</td>\n",
       "      <td>3.559908</td>\n",
       "      <td>0.0</td>\n",
       "      <td>6.137331</td>\n",
       "      <td>8.391916e-10</td>\n",
       "      <td>30.150281</td>\n",
       "    </tr>\n",
       "    <tr>\n",
       "      <th>custcat_Plus service</th>\n",
       "      <td>0.675983</td>\n",
       "      <td>1.965964</td>\n",
       "      <td>0.166146</td>\n",
       "      <td>0.350342</td>\n",
       "      <td>1.001624</td>\n",
       "      <td>1.419553</td>\n",
       "      <td>2.722700</td>\n",
       "      <td>0.0</td>\n",
       "      <td>4.068596</td>\n",
       "      <td>4.729731e-05</td>\n",
       "      <td>14.367882</td>\n",
       "    </tr>\n",
       "    <tr>\n",
       "      <th>custcat_Total service</th>\n",
       "      <td>0.879235</td>\n",
       "      <td>2.409056</td>\n",
       "      <td>0.185880</td>\n",
       "      <td>0.514917</td>\n",
       "      <td>1.243553</td>\n",
       "      <td>1.673499</td>\n",
       "      <td>3.467913</td>\n",
       "      <td>0.0</td>\n",
       "      <td>4.730120</td>\n",
       "      <td>2.243874e-06</td>\n",
       "      <td>18.765577</td>\n",
       "    </tr>\n",
       "    <tr>\n",
       "      <th>ed_Did not complete high school</th>\n",
       "      <td>0.273207</td>\n",
       "      <td>1.314172</td>\n",
       "      <td>0.179996</td>\n",
       "      <td>-0.079580</td>\n",
       "      <td>0.625993</td>\n",
       "      <td>0.923504</td>\n",
       "      <td>1.870102</td>\n",
       "      <td>0.0</td>\n",
       "      <td>1.517844</td>\n",
       "      <td>1.290537e-01</td>\n",
       "      <td>2.953957</td>\n",
       "    </tr>\n",
       "    <tr>\n",
       "      <th>ed_High school degree</th>\n",
       "      <td>0.168967</td>\n",
       "      <td>1.184081</td>\n",
       "      <td>0.130267</td>\n",
       "      <td>-0.086351</td>\n",
       "      <td>0.424286</td>\n",
       "      <td>0.917272</td>\n",
       "      <td>1.528498</td>\n",
       "      <td>0.0</td>\n",
       "      <td>1.297084</td>\n",
       "      <td>1.946021e-01</td>\n",
       "      <td>2.361401</td>\n",
       "    </tr>\n",
       "    <tr>\n",
       "      <th>internet_Yes</th>\n",
       "      <td>-0.789368</td>\n",
       "      <td>0.454132</td>\n",
       "      <td>0.137685</td>\n",
       "      <td>-1.059226</td>\n",
       "      <td>-0.519510</td>\n",
       "      <td>0.346724</td>\n",
       "      <td>0.594812</td>\n",
       "      <td>0.0</td>\n",
       "      <td>-5.733134</td>\n",
       "      <td>9.859192e-09</td>\n",
       "      <td>26.595883</td>\n",
       "    </tr>\n",
       "    <tr>\n",
       "      <th>marital_Unmarried</th>\n",
       "      <td>-0.327434</td>\n",
       "      <td>0.720771</td>\n",
       "      <td>0.104642</td>\n",
       "      <td>-0.532528</td>\n",
       "      <td>-0.122340</td>\n",
       "      <td>0.587119</td>\n",
       "      <td>0.884847</td>\n",
       "      <td>0.0</td>\n",
       "      <td>-3.129097</td>\n",
       "      <td>1.753443e-03</td>\n",
       "      <td>9.155593</td>\n",
       "    </tr>\n",
       "    <tr>\n",
       "      <th>voice_Yes</th>\n",
       "      <td>-0.298269</td>\n",
       "      <td>0.742102</td>\n",
       "      <td>0.146145</td>\n",
       "      <td>-0.584709</td>\n",
       "      <td>-0.011829</td>\n",
       "      <td>0.557268</td>\n",
       "      <td>0.988241</td>\n",
       "      <td>0.0</td>\n",
       "      <td>-2.040904</td>\n",
       "      <td>4.126034e-02</td>\n",
       "      <td>4.599101</td>\n",
       "    </tr>\n",
       "    <tr>\n",
       "      <th>Intercept</th>\n",
       "      <td>2.885065</td>\n",
       "      <td>17.904733</td>\n",
       "      <td>0.232132</td>\n",
       "      <td>2.430095</td>\n",
       "      <td>3.340036</td>\n",
       "      <td>11.359957</td>\n",
       "      <td>28.220131</td>\n",
       "      <td>0.0</td>\n",
       "      <td>12.428551</td>\n",
       "      <td>1.829205e-35</td>\n",
       "      <td>115.396267</td>\n",
       "    </tr>\n",
       "    <tr>\n",
       "      <th>rho_</th>\n",
       "      <th>Intercept</th>\n",
       "      <td>0.165323</td>\n",
       "      <td>1.179774</td>\n",
       "      <td>0.050946</td>\n",
       "      <td>0.065471</td>\n",
       "      <td>0.265174</td>\n",
       "      <td>1.067662</td>\n",
       "      <td>1.303658</td>\n",
       "      <td>0.0</td>\n",
       "      <td>3.245080</td>\n",
       "      <td>1.174177e-03</td>\n",
       "      <td>9.734134</td>\n",
       "    </tr>\n",
       "  </tbody>\n",
       "</table>\n",
       "</div>"
      ],
      "text/plain": [
       "                                             coef  exp(coef)  se(coef)  \\\n",
       "param   covariate                                                        \n",
       "lambda_ address                          0.042526   1.043444  0.008853   \n",
       "        age                              0.030797   1.031276  0.005977   \n",
       "        custcat_E-service                0.962393   2.617954  0.156810   \n",
       "        custcat_Plus service             0.675983   1.965964  0.166146   \n",
       "        custcat_Total service            0.879235   2.409056  0.185880   \n",
       "        ed_Did not complete high school  0.273207   1.314172  0.179996   \n",
       "        ed_High school degree            0.168967   1.184081  0.130267   \n",
       "        internet_Yes                    -0.789368   0.454132  0.137685   \n",
       "        marital_Unmarried               -0.327434   0.720771  0.104642   \n",
       "        voice_Yes                       -0.298269   0.742102  0.146145   \n",
       "        Intercept                        2.885065  17.904733  0.232132   \n",
       "rho_    Intercept                        0.165323   1.179774  0.050946   \n",
       "\n",
       "                                         coef lower 95%  coef upper 95%  \\\n",
       "param   covariate                                                         \n",
       "lambda_ address                                0.025176        0.059877   \n",
       "        age                                    0.019083        0.042510   \n",
       "        custcat_E-service                      0.655052        1.269735   \n",
       "        custcat_Plus service                   0.350342        1.001624   \n",
       "        custcat_Total service                  0.514917        1.243553   \n",
       "        ed_Did not complete high school       -0.079580        0.625993   \n",
       "        ed_High school degree                 -0.086351        0.424286   \n",
       "        internet_Yes                          -1.059226       -0.519510   \n",
       "        marital_Unmarried                     -0.532528       -0.122340   \n",
       "        voice_Yes                             -0.584709       -0.011829   \n",
       "        Intercept                              2.430095        3.340036   \n",
       "rho_    Intercept                              0.065471        0.265174   \n",
       "\n",
       "                                         exp(coef) lower 95%  \\\n",
       "param   covariate                                              \n",
       "lambda_ address                                     1.025495   \n",
       "        age                                         1.019266   \n",
       "        custcat_E-service                           1.925242   \n",
       "        custcat_Plus service                        1.419553   \n",
       "        custcat_Total service                       1.673499   \n",
       "        ed_Did not complete high school             0.923504   \n",
       "        ed_High school degree                       0.917272   \n",
       "        internet_Yes                                0.346724   \n",
       "        marital_Unmarried                           0.587119   \n",
       "        voice_Yes                                   0.557268   \n",
       "        Intercept                                  11.359957   \n",
       "rho_    Intercept                                   1.067662   \n",
       "\n",
       "                                         exp(coef) upper 95%  cmp to  \\\n",
       "param   covariate                                                      \n",
       "lambda_ address                                     1.061706     0.0   \n",
       "        age                                         1.043427     0.0   \n",
       "        custcat_E-service                           3.559908     0.0   \n",
       "        custcat_Plus service                        2.722700     0.0   \n",
       "        custcat_Total service                       3.467913     0.0   \n",
       "        ed_Did not complete high school             1.870102     0.0   \n",
       "        ed_High school degree                       1.528498     0.0   \n",
       "        internet_Yes                                0.594812     0.0   \n",
       "        marital_Unmarried                           0.884847     0.0   \n",
       "        voice_Yes                                   0.988241     0.0   \n",
       "        Intercept                                  28.220131     0.0   \n",
       "rho_    Intercept                                   1.303658     0.0   \n",
       "\n",
       "                                                 z             p    -log2(p)  \n",
       "param   covariate                                                             \n",
       "lambda_ address                           4.803851  1.556429e-06   19.293329  \n",
       "        age                               5.152866  2.565346e-07   21.894343  \n",
       "        custcat_E-service                 6.137331  8.391916e-10   30.150281  \n",
       "        custcat_Plus service              4.068596  4.729731e-05   14.367882  \n",
       "        custcat_Total service             4.730120  2.243874e-06   18.765577  \n",
       "        ed_Did not complete high school   1.517844  1.290537e-01    2.953957  \n",
       "        ed_High school degree             1.297084  1.946021e-01    2.361401  \n",
       "        internet_Yes                     -5.733134  9.859192e-09   26.595883  \n",
       "        marital_Unmarried                -3.129097  1.753443e-03    9.155593  \n",
       "        voice_Yes                        -2.040904  4.126034e-02    4.599101  \n",
       "        Intercept                        12.428551  1.829205e-35  115.396267  \n",
       "rho_    Intercept                         3.245080  1.174177e-03    9.734134  "
      ]
     },
     "execution_count": 270,
     "metadata": {},
     "output_type": "execute_result"
    }
   ],
   "source": [
    "initial_model = WeibullAFTFitter().fit(df, 'tenure', 'churn_Yes')\n",
    "model_summary = initial_model.summary\n",
    "significant_vars = model_summary['p'] < 0.05\n",
    "required_vars = ['tenure', 'churn_Yes']\n",
    "for i, j in enumerate(significant_vars[significant_vars][:-2]): \n",
    "    required_vars.append(significant_vars[significant_vars].index.tolist()[i][1])\n",
    "filtered_df = df[required_vars]\n",
    "final_weibull_model = WeibullAFTFitter().fit(filtered_df, 'tenure', 'churn_Yes')\n",
    "final_weibull_model.summary"
   ]
  },
  {
   "cell_type": "code",
   "execution_count": 271,
   "metadata": {},
   "outputs": [
    {
     "data": {
      "text/html": [
       "<div>\n",
       "<style scoped>\n",
       "    .dataframe tbody tr th:only-of-type {\n",
       "        vertical-align: middle;\n",
       "    }\n",
       "\n",
       "    .dataframe tbody tr th {\n",
       "        vertical-align: top;\n",
       "    }\n",
       "\n",
       "    .dataframe thead th {\n",
       "        text-align: right;\n",
       "    }\n",
       "</style>\n",
       "<table border=\"1\" class=\"dataframe\">\n",
       "  <thead>\n",
       "    <tr style=\"text-align: right;\">\n",
       "      <th></th>\n",
       "      <th></th>\n",
       "      <th>coef</th>\n",
       "      <th>exp(coef)</th>\n",
       "      <th>se(coef)</th>\n",
       "      <th>coef lower 95%</th>\n",
       "      <th>coef upper 95%</th>\n",
       "      <th>exp(coef) lower 95%</th>\n",
       "      <th>exp(coef) upper 95%</th>\n",
       "      <th>cmp to</th>\n",
       "      <th>z</th>\n",
       "      <th>p</th>\n",
       "      <th>-log2(p)</th>\n",
       "    </tr>\n",
       "    <tr>\n",
       "      <th>param</th>\n",
       "      <th>covariate</th>\n",
       "      <th></th>\n",
       "      <th></th>\n",
       "      <th></th>\n",
       "      <th></th>\n",
       "      <th></th>\n",
       "      <th></th>\n",
       "      <th></th>\n",
       "      <th></th>\n",
       "      <th></th>\n",
       "      <th></th>\n",
       "      <th></th>\n",
       "    </tr>\n",
       "  </thead>\n",
       "  <tbody>\n",
       "    <tr>\n",
       "      <th rowspan=\"9\" valign=\"top\">mu_</th>\n",
       "      <th>address</th>\n",
       "      <td>0.042824</td>\n",
       "      <td>1.043754</td>\n",
       "      <td>0.008847</td>\n",
       "      <td>0.025483</td>\n",
       "      <td>0.060164</td>\n",
       "      <td>1.025811</td>\n",
       "      <td>1.062011</td>\n",
       "      <td>0.0</td>\n",
       "      <td>4.840293</td>\n",
       "      <td>1.296478e-06</td>\n",
       "      <td>19.556971</td>\n",
       "    </tr>\n",
       "    <tr>\n",
       "      <th>age</th>\n",
       "      <td>0.036826</td>\n",
       "      <td>1.037512</td>\n",
       "      <td>0.006400</td>\n",
       "      <td>0.024283</td>\n",
       "      <td>0.049369</td>\n",
       "      <td>1.024580</td>\n",
       "      <td>1.050608</td>\n",
       "      <td>0.0</td>\n",
       "      <td>5.754395</td>\n",
       "      <td>8.695261e-09</td>\n",
       "      <td>26.777123</td>\n",
       "    </tr>\n",
       "    <tr>\n",
       "      <th>custcat_E-service</th>\n",
       "      <td>1.025825</td>\n",
       "      <td>2.789395</td>\n",
       "      <td>0.169047</td>\n",
       "      <td>0.694499</td>\n",
       "      <td>1.357150</td>\n",
       "      <td>2.002706</td>\n",
       "      <td>3.885105</td>\n",
       "      <td>0.0</td>\n",
       "      <td>6.068295</td>\n",
       "      <td>1.292752e-09</td>\n",
       "      <td>29.526907</td>\n",
       "    </tr>\n",
       "    <tr>\n",
       "      <th>custcat_Plus service</th>\n",
       "      <td>0.822553</td>\n",
       "      <td>2.276303</td>\n",
       "      <td>0.169425</td>\n",
       "      <td>0.490485</td>\n",
       "      <td>1.154620</td>\n",
       "      <td>1.633109</td>\n",
       "      <td>3.172818</td>\n",
       "      <td>0.0</td>\n",
       "      <td>4.854960</td>\n",
       "      <td>1.204113e-06</td>\n",
       "      <td>19.663598</td>\n",
       "    </tr>\n",
       "    <tr>\n",
       "      <th>custcat_Total service</th>\n",
       "      <td>1.013269</td>\n",
       "      <td>2.754590</td>\n",
       "      <td>0.209579</td>\n",
       "      <td>0.602501</td>\n",
       "      <td>1.424036</td>\n",
       "      <td>1.826682</td>\n",
       "      <td>4.153852</td>\n",
       "      <td>0.0</td>\n",
       "      <td>4.834781</td>\n",
       "      <td>1.332924e-06</td>\n",
       "      <td>19.516974</td>\n",
       "    </tr>\n",
       "    <tr>\n",
       "      <th>internet_Yes</th>\n",
       "      <td>-0.840528</td>\n",
       "      <td>0.431483</td>\n",
       "      <td>0.138259</td>\n",
       "      <td>-1.111511</td>\n",
       "      <td>-0.569545</td>\n",
       "      <td>0.329061</td>\n",
       "      <td>0.565783</td>\n",
       "      <td>0.0</td>\n",
       "      <td>-6.079365</td>\n",
       "      <td>1.206593e-09</td>\n",
       "      <td>29.626414</td>\n",
       "    </tr>\n",
       "    <tr>\n",
       "      <th>marital_Unmarried</th>\n",
       "      <td>-0.447317</td>\n",
       "      <td>0.639341</td>\n",
       "      <td>0.114472</td>\n",
       "      <td>-0.671679</td>\n",
       "      <td>-0.222956</td>\n",
       "      <td>0.510850</td>\n",
       "      <td>0.800150</td>\n",
       "      <td>0.0</td>\n",
       "      <td>-3.907654</td>\n",
       "      <td>9.319665e-05</td>\n",
       "      <td>13.389362</td>\n",
       "    </tr>\n",
       "    <tr>\n",
       "      <th>voice_Yes</th>\n",
       "      <td>-0.463493</td>\n",
       "      <td>0.629082</td>\n",
       "      <td>0.166771</td>\n",
       "      <td>-0.790359</td>\n",
       "      <td>-0.136628</td>\n",
       "      <td>0.453682</td>\n",
       "      <td>0.872294</td>\n",
       "      <td>0.0</td>\n",
       "      <td>-2.779221</td>\n",
       "      <td>5.448947e-03</td>\n",
       "      <td>7.519807</td>\n",
       "    </tr>\n",
       "    <tr>\n",
       "      <th>Intercept</th>\n",
       "      <td>2.534887</td>\n",
       "      <td>12.615010</td>\n",
       "      <td>0.242611</td>\n",
       "      <td>2.059379</td>\n",
       "      <td>3.010396</td>\n",
       "      <td>7.841100</td>\n",
       "      <td>20.295430</td>\n",
       "      <td>0.0</td>\n",
       "      <td>10.448373</td>\n",
       "      <td>1.490611e-25</td>\n",
       "      <td>82.472298</td>\n",
       "    </tr>\n",
       "    <tr>\n",
       "      <th>sigma_</th>\n",
       "      <th>Intercept</th>\n",
       "      <td>0.283034</td>\n",
       "      <td>1.327150</td>\n",
       "      <td>0.046020</td>\n",
       "      <td>0.192836</td>\n",
       "      <td>0.373231</td>\n",
       "      <td>1.212684</td>\n",
       "      <td>1.452420</td>\n",
       "      <td>0.0</td>\n",
       "      <td>6.150258</td>\n",
       "      <td>7.735690e-10</td>\n",
       "      <td>30.267751</td>\n",
       "    </tr>\n",
       "  </tbody>\n",
       "</table>\n",
       "</div>"
      ],
      "text/plain": [
       "                                  coef  exp(coef)  se(coef)  coef lower 95%  \\\n",
       "param  covariate                                                              \n",
       "mu_    address                0.042824   1.043754  0.008847        0.025483   \n",
       "       age                    0.036826   1.037512  0.006400        0.024283   \n",
       "       custcat_E-service      1.025825   2.789395  0.169047        0.694499   \n",
       "       custcat_Plus service   0.822553   2.276303  0.169425        0.490485   \n",
       "       custcat_Total service  1.013269   2.754590  0.209579        0.602501   \n",
       "       internet_Yes          -0.840528   0.431483  0.138259       -1.111511   \n",
       "       marital_Unmarried     -0.447317   0.639341  0.114472       -0.671679   \n",
       "       voice_Yes             -0.463493   0.629082  0.166771       -0.790359   \n",
       "       Intercept              2.534887  12.615010  0.242611        2.059379   \n",
       "sigma_ Intercept              0.283034   1.327150  0.046020        0.192836   \n",
       "\n",
       "                              coef upper 95%  exp(coef) lower 95%  \\\n",
       "param  covariate                                                    \n",
       "mu_    address                      0.060164             1.025811   \n",
       "       age                          0.049369             1.024580   \n",
       "       custcat_E-service            1.357150             2.002706   \n",
       "       custcat_Plus service         1.154620             1.633109   \n",
       "       custcat_Total service        1.424036             1.826682   \n",
       "       internet_Yes                -0.569545             0.329061   \n",
       "       marital_Unmarried           -0.222956             0.510850   \n",
       "       voice_Yes                   -0.136628             0.453682   \n",
       "       Intercept                    3.010396             7.841100   \n",
       "sigma_ Intercept                    0.373231             1.212684   \n",
       "\n",
       "                              exp(coef) upper 95%  cmp to          z  \\\n",
       "param  covariate                                                       \n",
       "mu_    address                           1.062011     0.0   4.840293   \n",
       "       age                               1.050608     0.0   5.754395   \n",
       "       custcat_E-service                 3.885105     0.0   6.068295   \n",
       "       custcat_Plus service              3.172818     0.0   4.854960   \n",
       "       custcat_Total service             4.153852     0.0   4.834781   \n",
       "       internet_Yes                      0.565783     0.0  -6.079365   \n",
       "       marital_Unmarried                 0.800150     0.0  -3.907654   \n",
       "       voice_Yes                         0.872294     0.0  -2.779221   \n",
       "       Intercept                        20.295430     0.0  10.448373   \n",
       "sigma_ Intercept                         1.452420     0.0   6.150258   \n",
       "\n",
       "                                         p   -log2(p)  \n",
       "param  covariate                                       \n",
       "mu_    address                1.296478e-06  19.556971  \n",
       "       age                    8.695261e-09  26.777123  \n",
       "       custcat_E-service      1.292752e-09  29.526907  \n",
       "       custcat_Plus service   1.204113e-06  19.663598  \n",
       "       custcat_Total service  1.332924e-06  19.516974  \n",
       "       internet_Yes           1.206593e-09  29.626414  \n",
       "       marital_Unmarried      9.319665e-05  13.389362  \n",
       "       voice_Yes              5.448947e-03   7.519807  \n",
       "       Intercept              1.490611e-25  82.472298  \n",
       "sigma_ Intercept              7.735690e-10  30.267751  "
      ]
     },
     "execution_count": 271,
     "metadata": {},
     "output_type": "execute_result"
    }
   ],
   "source": [
    "initial_model = LogNormalAFTFitter().fit(df, 'tenure', 'churn_Yes')\n",
    "model_summary = initial_model.summary\n",
    "significant_vars = model_summary['p'] < 0.05\n",
    "required_vars = ['tenure', 'churn_Yes']\n",
    "for i, j in enumerate(significant_vars[significant_vars][:-2]): \n",
    "    required_vars.append(significant_vars[significant_vars].index.tolist()[i][1])\n",
    "filtered_df = df[required_vars]\n",
    "final_lognormal_model = LogNormalAFTFitter().fit(filtered_df, 'tenure', 'churn_Yes')\n",
    "final_lognormal_model.summary"
   ]
  },
  {
   "cell_type": "code",
   "execution_count": 272,
   "metadata": {},
   "outputs": [
    {
     "data": {
      "text/html": [
       "<div>\n",
       "<style scoped>\n",
       "    .dataframe tbody tr th:only-of-type {\n",
       "        vertical-align: middle;\n",
       "    }\n",
       "\n",
       "    .dataframe tbody tr th {\n",
       "        vertical-align: top;\n",
       "    }\n",
       "\n",
       "    .dataframe thead th {\n",
       "        text-align: right;\n",
       "    }\n",
       "</style>\n",
       "<table border=\"1\" class=\"dataframe\">\n",
       "  <thead>\n",
       "    <tr style=\"text-align: right;\">\n",
       "      <th></th>\n",
       "      <th></th>\n",
       "      <th>coef</th>\n",
       "      <th>exp(coef)</th>\n",
       "      <th>se(coef)</th>\n",
       "      <th>coef lower 95%</th>\n",
       "      <th>coef upper 95%</th>\n",
       "      <th>exp(coef) lower 95%</th>\n",
       "      <th>exp(coef) upper 95%</th>\n",
       "      <th>cmp to</th>\n",
       "      <th>z</th>\n",
       "      <th>p</th>\n",
       "      <th>-log2(p)</th>\n",
       "    </tr>\n",
       "    <tr>\n",
       "      <th>param</th>\n",
       "      <th>covariate</th>\n",
       "      <th></th>\n",
       "      <th></th>\n",
       "      <th></th>\n",
       "      <th></th>\n",
       "      <th></th>\n",
       "      <th></th>\n",
       "      <th></th>\n",
       "      <th></th>\n",
       "      <th></th>\n",
       "      <th></th>\n",
       "      <th></th>\n",
       "    </tr>\n",
       "  </thead>\n",
       "  <tbody>\n",
       "    <tr>\n",
       "      <th rowspan=\"11\" valign=\"top\">alpha_</th>\n",
       "      <th>address</th>\n",
       "      <td>0.038659</td>\n",
       "      <td>1.039416</td>\n",
       "      <td>0.008761</td>\n",
       "      <td>0.021487</td>\n",
       "      <td>0.055831</td>\n",
       "      <td>1.021719</td>\n",
       "      <td>1.057419</td>\n",
       "      <td>0.0</td>\n",
       "      <td>4.412357</td>\n",
       "      <td>1.022512e-05</td>\n",
       "      <td>16.577523</td>\n",
       "    </tr>\n",
       "    <tr>\n",
       "      <th>age</th>\n",
       "      <td>0.035661</td>\n",
       "      <td>1.036304</td>\n",
       "      <td>0.006159</td>\n",
       "      <td>0.023589</td>\n",
       "      <td>0.047733</td>\n",
       "      <td>1.023869</td>\n",
       "      <td>1.048890</td>\n",
       "      <td>0.0</td>\n",
       "      <td>5.789681</td>\n",
       "      <td>7.052018e-09</td>\n",
       "      <td>27.079317</td>\n",
       "    </tr>\n",
       "    <tr>\n",
       "      <th>custcat_E-service</th>\n",
       "      <td>1.029472</td>\n",
       "      <td>2.799586</td>\n",
       "      <td>0.164726</td>\n",
       "      <td>0.706615</td>\n",
       "      <td>1.352329</td>\n",
       "      <td>2.027117</td>\n",
       "      <td>3.866419</td>\n",
       "      <td>0.0</td>\n",
       "      <td>6.249600</td>\n",
       "      <td>4.115055e-10</td>\n",
       "      <td>31.178369</td>\n",
       "    </tr>\n",
       "    <tr>\n",
       "      <th>custcat_Plus service</th>\n",
       "      <td>0.735692</td>\n",
       "      <td>2.086925</td>\n",
       "      <td>0.168030</td>\n",
       "      <td>0.406358</td>\n",
       "      <td>1.065025</td>\n",
       "      <td>1.501340</td>\n",
       "      <td>2.900912</td>\n",
       "      <td>0.0</td>\n",
       "      <td>4.378328</td>\n",
       "      <td>1.195935e-05</td>\n",
       "      <td>16.351501</td>\n",
       "    </tr>\n",
       "    <tr>\n",
       "      <th>custcat_Total service</th>\n",
       "      <td>1.036790</td>\n",
       "      <td>2.820151</td>\n",
       "      <td>0.204405</td>\n",
       "      <td>0.636165</td>\n",
       "      <td>1.437416</td>\n",
       "      <td>1.889222</td>\n",
       "      <td>4.209804</td>\n",
       "      <td>0.0</td>\n",
       "      <td>5.072247</td>\n",
       "      <td>3.931454e-07</td>\n",
       "      <td>21.278434</td>\n",
       "    </tr>\n",
       "    <tr>\n",
       "      <th>ed_Did not complete high school</th>\n",
       "      <td>0.294824</td>\n",
       "      <td>1.342890</td>\n",
       "      <td>0.181330</td>\n",
       "      <td>-0.060576</td>\n",
       "      <td>0.650224</td>\n",
       "      <td>0.941222</td>\n",
       "      <td>1.915971</td>\n",
       "      <td>0.0</td>\n",
       "      <td>1.625900</td>\n",
       "      <td>1.039709e-01</td>\n",
       "      <td>3.265748</td>\n",
       "    </tr>\n",
       "    <tr>\n",
       "      <th>ed_High school degree</th>\n",
       "      <td>0.213616</td>\n",
       "      <td>1.238147</td>\n",
       "      <td>0.135842</td>\n",
       "      <td>-0.052629</td>\n",
       "      <td>0.479861</td>\n",
       "      <td>0.948732</td>\n",
       "      <td>1.615850</td>\n",
       "      <td>0.0</td>\n",
       "      <td>1.572534</td>\n",
       "      <td>1.158267e-01</td>\n",
       "      <td>3.109960</td>\n",
       "    </tr>\n",
       "    <tr>\n",
       "      <th>internet_Yes</th>\n",
       "      <td>-0.821308</td>\n",
       "      <td>0.439856</td>\n",
       "      <td>0.141289</td>\n",
       "      <td>-1.098230</td>\n",
       "      <td>-0.544387</td>\n",
       "      <td>0.333461</td>\n",
       "      <td>0.580197</td>\n",
       "      <td>0.0</td>\n",
       "      <td>-5.812967</td>\n",
       "      <td>6.137507e-09</td>\n",
       "      <td>27.279700</td>\n",
       "    </tr>\n",
       "    <tr>\n",
       "      <th>marital_Unmarried</th>\n",
       "      <td>-0.425593</td>\n",
       "      <td>0.653382</td>\n",
       "      <td>0.110336</td>\n",
       "      <td>-0.641848</td>\n",
       "      <td>-0.209338</td>\n",
       "      <td>0.526319</td>\n",
       "      <td>0.811121</td>\n",
       "      <td>0.0</td>\n",
       "      <td>-3.857234</td>\n",
       "      <td>1.146775e-04</td>\n",
       "      <td>13.090130</td>\n",
       "    </tr>\n",
       "    <tr>\n",
       "      <th>voice_Yes</th>\n",
       "      <td>-0.401298</td>\n",
       "      <td>0.669451</td>\n",
       "      <td>0.160963</td>\n",
       "      <td>-0.716780</td>\n",
       "      <td>-0.085815</td>\n",
       "      <td>0.488322</td>\n",
       "      <td>0.917764</td>\n",
       "      <td>0.0</td>\n",
       "      <td>-2.493100</td>\n",
       "      <td>1.266333e-02</td>\n",
       "      <td>6.303199</td>\n",
       "    </tr>\n",
       "    <tr>\n",
       "      <th>Intercept</th>\n",
       "      <td>2.421680</td>\n",
       "      <td>11.264770</td>\n",
       "      <td>0.244970</td>\n",
       "      <td>1.941548</td>\n",
       "      <td>2.901812</td>\n",
       "      <td>6.969531</td>\n",
       "      <td>18.207113</td>\n",
       "      <td>0.0</td>\n",
       "      <td>9.885623</td>\n",
       "      <td>4.805813e-23</td>\n",
       "      <td>74.139566</td>\n",
       "    </tr>\n",
       "    <tr>\n",
       "      <th>beta_</th>\n",
       "      <th>Intercept</th>\n",
       "      <td>0.333737</td>\n",
       "      <td>1.396176</td>\n",
       "      <td>0.050933</td>\n",
       "      <td>0.233911</td>\n",
       "      <td>0.433563</td>\n",
       "      <td>1.263531</td>\n",
       "      <td>1.542745</td>\n",
       "      <td>0.0</td>\n",
       "      <td>6.552497</td>\n",
       "      <td>5.658271e-11</td>\n",
       "      <td>34.040848</td>\n",
       "    </tr>\n",
       "  </tbody>\n",
       "</table>\n",
       "</div>"
      ],
      "text/plain": [
       "                                            coef  exp(coef)  se(coef)  \\\n",
       "param  covariate                                                        \n",
       "alpha_ address                          0.038659   1.039416  0.008761   \n",
       "       age                              0.035661   1.036304  0.006159   \n",
       "       custcat_E-service                1.029472   2.799586  0.164726   \n",
       "       custcat_Plus service             0.735692   2.086925  0.168030   \n",
       "       custcat_Total service            1.036790   2.820151  0.204405   \n",
       "       ed_Did not complete high school  0.294824   1.342890  0.181330   \n",
       "       ed_High school degree            0.213616   1.238147  0.135842   \n",
       "       internet_Yes                    -0.821308   0.439856  0.141289   \n",
       "       marital_Unmarried               -0.425593   0.653382  0.110336   \n",
       "       voice_Yes                       -0.401298   0.669451  0.160963   \n",
       "       Intercept                        2.421680  11.264770  0.244970   \n",
       "beta_  Intercept                        0.333737   1.396176  0.050933   \n",
       "\n",
       "                                        coef lower 95%  coef upper 95%  \\\n",
       "param  covariate                                                         \n",
       "alpha_ address                                0.021487        0.055831   \n",
       "       age                                    0.023589        0.047733   \n",
       "       custcat_E-service                      0.706615        1.352329   \n",
       "       custcat_Plus service                   0.406358        1.065025   \n",
       "       custcat_Total service                  0.636165        1.437416   \n",
       "       ed_Did not complete high school       -0.060576        0.650224   \n",
       "       ed_High school degree                 -0.052629        0.479861   \n",
       "       internet_Yes                          -1.098230       -0.544387   \n",
       "       marital_Unmarried                     -0.641848       -0.209338   \n",
       "       voice_Yes                             -0.716780       -0.085815   \n",
       "       Intercept                              1.941548        2.901812   \n",
       "beta_  Intercept                              0.233911        0.433563   \n",
       "\n",
       "                                        exp(coef) lower 95%  \\\n",
       "param  covariate                                              \n",
       "alpha_ address                                     1.021719   \n",
       "       age                                         1.023869   \n",
       "       custcat_E-service                           2.027117   \n",
       "       custcat_Plus service                        1.501340   \n",
       "       custcat_Total service                       1.889222   \n",
       "       ed_Did not complete high school             0.941222   \n",
       "       ed_High school degree                       0.948732   \n",
       "       internet_Yes                                0.333461   \n",
       "       marital_Unmarried                           0.526319   \n",
       "       voice_Yes                                   0.488322   \n",
       "       Intercept                                   6.969531   \n",
       "beta_  Intercept                                   1.263531   \n",
       "\n",
       "                                        exp(coef) upper 95%  cmp to         z  \\\n",
       "param  covariate                                                                \n",
       "alpha_ address                                     1.057419     0.0  4.412357   \n",
       "       age                                         1.048890     0.0  5.789681   \n",
       "       custcat_E-service                           3.866419     0.0  6.249600   \n",
       "       custcat_Plus service                        2.900912     0.0  4.378328   \n",
       "       custcat_Total service                       4.209804     0.0  5.072247   \n",
       "       ed_Did not complete high school             1.915971     0.0  1.625900   \n",
       "       ed_High school degree                       1.615850     0.0  1.572534   \n",
       "       internet_Yes                                0.580197     0.0 -5.812967   \n",
       "       marital_Unmarried                           0.811121     0.0 -3.857234   \n",
       "       voice_Yes                                   0.917764     0.0 -2.493100   \n",
       "       Intercept                                  18.207113     0.0  9.885623   \n",
       "beta_  Intercept                                   1.542745     0.0  6.552497   \n",
       "\n",
       "                                                   p   -log2(p)  \n",
       "param  covariate                                                 \n",
       "alpha_ address                          1.022512e-05  16.577523  \n",
       "       age                              7.052018e-09  27.079317  \n",
       "       custcat_E-service                4.115055e-10  31.178369  \n",
       "       custcat_Plus service             1.195935e-05  16.351501  \n",
       "       custcat_Total service            3.931454e-07  21.278434  \n",
       "       ed_Did not complete high school  1.039709e-01   3.265748  \n",
       "       ed_High school degree            1.158267e-01   3.109960  \n",
       "       internet_Yes                     6.137507e-09  27.279700  \n",
       "       marital_Unmarried                1.146775e-04  13.090130  \n",
       "       voice_Yes                        1.266333e-02   6.303199  \n",
       "       Intercept                        4.805813e-23  74.139566  \n",
       "beta_  Intercept                        5.658271e-11  34.040848  "
      ]
     },
     "execution_count": 272,
     "metadata": {},
     "output_type": "execute_result"
    }
   ],
   "source": [
    "initial_model = LogLogisticAFTFitter().fit(df, 'tenure', 'churn_Yes')\n",
    "model_summary = initial_model.summary\n",
    "significant_vars = model_summary['p'] < 0.05\n",
    "required_vars = ['tenure', 'churn_Yes']\n",
    "for i, j in enumerate(significant_vars[significant_vars][:-2]): \n",
    "    required_vars.append(significant_vars[significant_vars].index.tolist()[i][1])\n",
    "filtered_df = df[required_vars]\n",
    "final_loglogistic_model = LogLogisticAFTFitter().fit(filtered_df, 'tenure', 'churn_Yes')\n",
    "final_loglogistic_model.summary"
   ]
  },
  {
   "cell_type": "markdown",
   "metadata": {},
   "source": [
    "Above I left only the coefficients that had pvalue with a significance level of less than 0.5. Positive coefficients have effect of increase in the survavial time and the negatives vice versa. "
   ]
  },
  {
   "cell_type": "markdown",
   "metadata": {},
   "source": [
    "Log-Normal model has the least AIC, BIC values, uses the least number of coefficients and is the simplest one. For the following reasons I will choose Log-Normal."
   ]
  },
  {
   "cell_type": "code",
   "execution_count": 273,
   "metadata": {},
   "outputs": [],
   "source": [
    "Avg_MM = 500"
   ]
  },
  {
   "cell_type": "code",
   "execution_count": 274,
   "metadata": {},
   "outputs": [
    {
     "name": "stdout",
     "output_type": "stream",
     "text": [
      "Average Customer Lifetime Value: 224477$\n"
     ]
    },
    {
     "name": "stderr",
     "output_type": "stream",
     "text": [
      "/var/folders/lf/lmlbyf613pjgkwp2bzmmr37m0000gn/T/ipykernel_9038/121818933.py:2: SettingWithCopyWarning: \n",
      "A value is trying to be set on a copy of a slice from a DataFrame.\n",
      "Try using .loc[row_indexer,col_indexer] = value instead\n",
      "\n",
      "See the caveats in the documentation: https://pandas.pydata.org/pandas-docs/stable/user_guide/indexing.html#returning-a-view-versus-a-copy\n",
      "  filtered_df['CLV'] = expected_lifetimes * Avg_MM\n"
     ]
    }
   ],
   "source": [
    "expected_lifetimes = final_lognormal_model.predict_expectation(filtered_df)\n",
    "filtered_df['CLV'] = expected_lifetimes * Avg_MM\n",
    "average_clv = filtered_df['CLV'].mean()\n",
    "print(f\"Average Customer Lifetime Value: {int(average_clv)}$\")"
   ]
  },
  {
   "cell_type": "code",
   "execution_count": 275,
   "metadata": {},
   "outputs": [],
   "source": [
    "df1 = filtered_df.loc[filtered_df['marital_Unmarried'] == True]\n",
    "df2 = filtered_df.loc[filtered_df['marital_Unmarried'] == False]"
   ]
  },
  {
   "cell_type": "code",
   "execution_count": 276,
   "metadata": {},
   "outputs": [
    {
     "name": "stdout",
     "output_type": "stream",
     "text": [
      "Average Unmarried Customer Lifetime Value: 182589$\n"
     ]
    },
    {
     "name": "stderr",
     "output_type": "stream",
     "text": [
      "/var/folders/lf/lmlbyf613pjgkwp2bzmmr37m0000gn/T/ipykernel_9038/1539005793.py:2: SettingWithCopyWarning: \n",
      "A value is trying to be set on a copy of a slice from a DataFrame.\n",
      "Try using .loc[row_indexer,col_indexer] = value instead\n",
      "\n",
      "See the caveats in the documentation: https://pandas.pydata.org/pandas-docs/stable/user_guide/indexing.html#returning-a-view-versus-a-copy\n",
      "  df1['CLV'] = expected_lifetimes * Avg_MM\n"
     ]
    }
   ],
   "source": [
    "expected_lifetimes_Unmarried = final_lognormal_model.predict_expectation(df1)\n",
    "df1['CLV'] = expected_lifetimes * Avg_MM\n",
    "average_clv = df1['CLV'].mean()\n",
    "print(f\"Average Unmarried Customer Lifetime Value: {int(average_clv)}$\")"
   ]
  },
  {
   "cell_type": "code",
   "execution_count": 277,
   "metadata": {},
   "outputs": [
    {
     "name": "stdout",
     "output_type": "stream",
     "text": [
      "Average Married Customer Lifetime Value: 267212\n"
     ]
    },
    {
     "name": "stderr",
     "output_type": "stream",
     "text": [
      "/var/folders/lf/lmlbyf613pjgkwp2bzmmr37m0000gn/T/ipykernel_9038/1116415135.py:2: SettingWithCopyWarning: \n",
      "A value is trying to be set on a copy of a slice from a DataFrame.\n",
      "Try using .loc[row_indexer,col_indexer] = value instead\n",
      "\n",
      "See the caveats in the documentation: https://pandas.pydata.org/pandas-docs/stable/user_guide/indexing.html#returning-a-view-versus-a-copy\n",
      "  df2['CLV'] = expected_lifetimes * Avg_MM\n"
     ]
    }
   ],
   "source": [
    "expected_lifetimes_Unmarried = final_lognormal_model.predict_expectation(df2)\n",
    "df2['CLV'] = expected_lifetimes * Avg_MM\n",
    "average_clv = df2['CLV'].mean()\n",
    "print(f\"Average Married Customer Lifetime Value: {int(average_clv)}\")"
   ]
  },
  {
   "cell_type": "markdown",
   "metadata": {},
   "source": [
    "Above findings show that Married customers bring more value in average than not married ones."
   ]
  },
  {
   "cell_type": "code",
   "execution_count": 250,
   "metadata": {},
   "outputs": [],
   "source": [
    "df1 = filtered_df.loc[filtered_df['voice_Yes'] == True]\n",
    "df2 = filtered_df.loc[filtered_df['voice_Yes'] == False]"
   ]
  },
  {
   "cell_type": "code",
   "execution_count": 279,
   "metadata": {},
   "outputs": [
    {
     "name": "stdout",
     "output_type": "stream",
     "text": [
      "Average Voice:YES Customer Lifetime Value: 182589$\n"
     ]
    },
    {
     "name": "stderr",
     "output_type": "stream",
     "text": [
      "/var/folders/lf/lmlbyf613pjgkwp2bzmmr37m0000gn/T/ipykernel_9038/2589730417.py:2: SettingWithCopyWarning: \n",
      "A value is trying to be set on a copy of a slice from a DataFrame.\n",
      "Try using .loc[row_indexer,col_indexer] = value instead\n",
      "\n",
      "See the caveats in the documentation: https://pandas.pydata.org/pandas-docs/stable/user_guide/indexing.html#returning-a-view-versus-a-copy\n",
      "  df1['CLV'] = expected_lifetimes * Avg_MM\n"
     ]
    }
   ],
   "source": [
    "expected_lifetimes_Unmarried = final_lognormal_model.predict_expectation(df1)\n",
    "df1['CLV'] = expected_lifetimes * Avg_MM\n",
    "average_clv = df1['CLV'].mean()\n",
    "print(f\"Average Voice:YES Customer Lifetime Value: {int(average_clv)}$\")"
   ]
  },
  {
   "cell_type": "code",
   "execution_count": 280,
   "metadata": {},
   "outputs": [
    {
     "name": "stdout",
     "output_type": "stream",
     "text": [
      "Average Voice:NO Customer Lifetime Value: 267212\n"
     ]
    },
    {
     "name": "stderr",
     "output_type": "stream",
     "text": [
      "/var/folders/lf/lmlbyf613pjgkwp2bzmmr37m0000gn/T/ipykernel_9038/3445202773.py:2: SettingWithCopyWarning: \n",
      "A value is trying to be set on a copy of a slice from a DataFrame.\n",
      "Try using .loc[row_indexer,col_indexer] = value instead\n",
      "\n",
      "See the caveats in the documentation: https://pandas.pydata.org/pandas-docs/stable/user_guide/indexing.html#returning-a-view-versus-a-copy\n",
      "  df2['CLV'] = expected_lifetimes * Avg_MM\n"
     ]
    }
   ],
   "source": [
    "expected_lifetimes_Unmarried = final_lognormal_model.predict_expectation(df2)\n",
    "df2['CLV'] = expected_lifetimes * Avg_MM\n",
    "average_clv = df2['CLV'].mean()\n",
    "print(f\"Average Voice:NO Customer Lifetime Value: {int(average_clv)}\")"
   ]
  },
  {
   "cell_type": "markdown",
   "metadata": {},
   "source": [
    "Customers with voice: NO bring more value to the company."
   ]
  },
  {
   "cell_type": "code",
   "execution_count": 284,
   "metadata": {},
   "outputs": [],
   "source": [
    "df1 = filtered_df.loc[filtered_df['internet_Yes'] == True]\n",
    "df2 = filtered_df.loc[filtered_df['internet_Yes'] == False]"
   ]
  },
  {
   "cell_type": "code",
   "execution_count": 285,
   "metadata": {},
   "outputs": [
    {
     "name": "stdout",
     "output_type": "stream",
     "text": [
      "Average internet:YES Customer Lifetime Value: 97115$\n"
     ]
    },
    {
     "name": "stderr",
     "output_type": "stream",
     "text": [
      "/var/folders/lf/lmlbyf613pjgkwp2bzmmr37m0000gn/T/ipykernel_9038/3537614883.py:2: SettingWithCopyWarning: \n",
      "A value is trying to be set on a copy of a slice from a DataFrame.\n",
      "Try using .loc[row_indexer,col_indexer] = value instead\n",
      "\n",
      "See the caveats in the documentation: https://pandas.pydata.org/pandas-docs/stable/user_guide/indexing.html#returning-a-view-versus-a-copy\n",
      "  df1['CLV'] = expected_lifetimes * Avg_MM\n"
     ]
    }
   ],
   "source": [
    "expected_lifetimes_Unmarried = final_lognormal_model.predict_expectation(df1)\n",
    "df1['CLV'] = expected_lifetimes * Avg_MM\n",
    "average_clv = df1['CLV'].mean()\n",
    "print(f\"Average internet:YES Customer Lifetime Value: {int(average_clv)}$\")"
   ]
  },
  {
   "cell_type": "code",
   "execution_count": 286,
   "metadata": {},
   "outputs": [
    {
     "name": "stdout",
     "output_type": "stream",
     "text": [
      "Average internet:NO Customer Lifetime Value: 298637\n"
     ]
    },
    {
     "name": "stderr",
     "output_type": "stream",
     "text": [
      "/var/folders/lf/lmlbyf613pjgkwp2bzmmr37m0000gn/T/ipykernel_9038/1120774213.py:2: SettingWithCopyWarning: \n",
      "A value is trying to be set on a copy of a slice from a DataFrame.\n",
      "Try using .loc[row_indexer,col_indexer] = value instead\n",
      "\n",
      "See the caveats in the documentation: https://pandas.pydata.org/pandas-docs/stable/user_guide/indexing.html#returning-a-view-versus-a-copy\n",
      "  df2['CLV'] = expected_lifetimes * Avg_MM\n"
     ]
    }
   ],
   "source": [
    "expected_lifetimes_Unmarried = final_lognormal_model.predict_expectation(df2)\n",
    "df2['CLV'] = expected_lifetimes * Avg_MM\n",
    "average_clv = df2['CLV'].mean()\n",
    "print(f\"Average internet:NO Customer Lifetime Value: {int(average_clv)}\")"
   ]
  },
  {
   "cell_type": "markdown",
   "metadata": {},
   "source": [
    "Thus if we view the segment where our significant, dummy coefficients have positive effect on the CLV,  that will be our champions customers. Example: Customers with Internet: NO, Married and Voice: NO is valueable segment."
   ]
  },
  {
   "cell_type": "code",
   "execution_count": 316,
   "metadata": {},
   "outputs": [
    {
     "name": "stderr",
     "output_type": "stream",
     "text": [
      "/var/folders/lf/lmlbyf613pjgkwp2bzmmr37m0000gn/T/ipykernel_9038/3706366816.py:1: SettingWithCopyWarning: \n",
      "A value is trying to be set on a copy of a slice from a DataFrame.\n",
      "Try using .loc[row_indexer,col_indexer] = value instead\n",
      "\n",
      "See the caveats in the documentation: https://pandas.pydata.org/pandas-docs/stable/user_guide/indexing.html#returning-a-view-versus-a-copy\n",
      "  filtered_df['Survival_Probability'] = final_lognormal_model.predict_survival_function(filtered_df, times=12).T[12]\n",
      "/var/folders/lf/lmlbyf613pjgkwp2bzmmr37m0000gn/T/ipykernel_9038/3706366816.py:4: SettingWithCopyWarning: \n",
      "A value is trying to be set on a copy of a slice from a DataFrame.\n",
      "Try using .loc[row_indexer,col_indexer] = value instead\n",
      "\n",
      "See the caveats in the documentation: https://pandas.pydata.org/pandas-docs/stable/user_guide/indexing.html#returning-a-view-versus-a-copy\n",
      "  filtered_df['At_Risk'] = filtered_df['Survival_Probability'] < threshold\n"
     ]
    }
   ],
   "source": [
    "filtered_df['Survival_Probability'] = final_lognormal_model.predict_survival_function(filtered_df, times=12).T[12]\n",
    "#time = 12 for a year\n",
    "threshold = 0.8\n",
    "filtered_df['At_Risk'] = filtered_df['Survival_Probability'] < threshold"
   ]
  },
  {
   "cell_type": "code",
   "execution_count": 315,
   "metadata": {},
   "outputs": [
    {
     "name": "stderr",
     "output_type": "stream",
     "text": [
      "/var/folders/lf/lmlbyf613pjgkwp2bzmmr37m0000gn/T/ipykernel_9038/1617604906.py:2: SettingWithCopyWarning: \n",
      "A value is trying to be set on a copy of a slice from a DataFrame.\n",
      "Try using .loc[row_indexer,col_indexer] = value instead\n",
      "\n",
      "See the caveats in the documentation: https://pandas.pydata.org/pandas-docs/stable/user_guide/indexing.html#returning-a-view-versus-a-copy\n",
      "  filtered_df['Retention_Budget'] = filtered_df['CLV'] * retention_budget_percent * filtered_df['At_Risk']\n"
     ]
    }
   ],
   "source": [
    "retention_budget_percent = 0.10\n",
    "filtered_df['Retention_Budget'] = filtered_df['CLV'] * retention_budget_percent * filtered_df['At_Risk']\n",
    "total_retention_budget = filtered_df['Retention_Budget'].sum()"
   ]
  },
  {
   "cell_type": "code",
   "execution_count": 311,
   "metadata": {},
   "outputs": [
    {
     "data": {
      "text/plain": [
       "596266.2550935985"
      ]
     },
     "execution_count": 311,
     "metadata": {},
     "output_type": "execute_result"
    }
   ],
   "source": [
    "total_retention_budget"
   ]
  },
  {
   "cell_type": "markdown",
   "metadata": {},
   "source": [
    "I would suggest to find the weakest segment and plan a budget on advertisements targeted on them for the visibility and attraction which will lead to increase of retention rate."
   ]
  },
  {
   "cell_type": "markdown",
   "metadata": {},
   "source": []
  }
 ],
 "metadata": {
  "kernelspec": {
   "display_name": "Python 3",
   "language": "python",
   "name": "python3"
  },
  "language_info": {
   "codemirror_mode": {
    "name": "ipython",
    "version": 3
   },
   "file_extension": ".py",
   "mimetype": "text/x-python",
   "name": "python",
   "nbconvert_exporter": "python",
   "pygments_lexer": "ipython3",
   "version": "3.10.10"
  }
 },
 "nbformat": 4,
 "nbformat_minor": 2
}
